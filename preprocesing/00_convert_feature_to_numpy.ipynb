{
 "cells": [
  {
   "cell_type": "code",
   "execution_count": 125,
   "metadata": {
    "collapsed": true
   },
   "outputs": [],
   "source": [
    "import numpy as np\n",
    "import pickle\n",
    "from file_util import *\n",
    "import ast\n",
    "from tqdm import tqdm"
   ]
  },
  {
   "cell_type": "code",
   "execution_count": 100,
   "metadata": {
    "collapsed": true
   },
   "outputs": [],
   "source": [
    "with open('../data/raw/bigcomp/shuffle_iemocap_emobase_6class.txt') as f:\n",
    "    list_data = f.readlines()\n",
    "    \n",
    "with open('../data/raw/bigcomp/shuffle_iemocap_label_6class_real.txt') as f:\n",
    "    list_label = f.readlines()\n",
    "list_label = [ int(x.strip()) for x in list_label]    "
   ]
  },
  {
   "cell_type": "code",
   "execution_count": null,
   "metadata": {
    "collapsed": false
   },
   "outputs": [],
   "source": []
  },
  {
   "cell_type": "code",
   "execution_count": 104,
   "metadata": {
    "collapsed": false
   },
   "outputs": [
    {
     "name": "stderr",
     "output_type": "stream",
     "text": [
      "100%|██████████| 7380/7380 [00:29<00:00, 252.36it/s]\n"
     ]
    }
   ],
   "source": [
    "new_data = []\n",
    "for data in tqdm(list_data):\n",
    "    sample = ast.literal_eval(data)\n",
    "    sample = [float(x) for x in sample]\n",
    "    new_data.append(sample)    "
   ]
  },
  {
   "cell_type": "code",
   "execution_count": 32,
   "metadata": {
    "collapsed": false
   },
   "outputs": [],
   "source": []
  },
  {
   "cell_type": "code",
   "execution_count": 112,
   "metadata": {
    "collapsed": false
   },
   "outputs": [],
   "source": [
    "data = {}\n",
    "with open('../data/processed/bigcomp/data.pkl', 'wb') as f:\n",
    "    pickle.dump([new_data, list_label], f)"
   ]
  },
  {
   "cell_type": "code",
   "execution_count": null,
   "metadata": {
    "collapsed": true
   },
   "outputs": [],
   "source": []
  },
  {
   "cell_type": "code",
   "execution_count": null,
   "metadata": {
    "collapsed": true
   },
   "outputs": [],
   "source": []
  },
  {
   "cell_type": "markdown",
   "metadata": {},
   "source": [
    "## split data\n",
    "train:dev:test = 7:1:2"
   ]
  },
  {
   "cell_type": "code",
   "execution_count": 113,
   "metadata": {
    "collapsed": false
   },
   "outputs": [],
   "source": [
    "import random"
   ]
  },
  {
   "cell_type": "code",
   "execution_count": 114,
   "metadata": {
    "collapsed": false
   },
   "outputs": [],
   "source": [
    "with open('../data/processed/bigcomp/data.pkl', 'rb') as f:\n",
    "    list_data, list_label = pickle.load(f)"
   ]
  },
  {
   "cell_type": "code",
   "execution_count": 123,
   "metadata": {
    "collapsed": false
   },
   "outputs": [
    {
     "name": "stderr",
     "output_type": "stream",
     "text": [
      "7380it [00:00, 450344.28it/s]\n"
     ]
    }
   ],
   "source": [
    "random.seed(337)\n",
    "\n",
    "train, dev, test = [], [], []\n",
    "train_l, dev_l, test_l = [], [], []\n",
    "\n",
    "for data, label in tqdm(zip(list_data, list_label)):\n",
    "    threshold = random.random()\n",
    "    if threshold < 0.2:\n",
    "        test.append(data)\n",
    "        test_l.append(label)\n",
    "    elif threshold < 0.3:\n",
    "        dev.append(data)\n",
    "        dev_l.append(label)\n",
    "    else:\n",
    "        train.append(data)\n",
    "        train_l.append(label)"
   ]
  },
  {
   "cell_type": "code",
   "execution_count": 129,
   "metadata": {
    "collapsed": false
   },
   "outputs": [],
   "source": [
    "create_folder('../data/processed/bigcomp/fold_1')\n",
    "\n",
    "with open('../data/processed/bigcomp/fold_1/train.pkl', 'wb') as f:\n",
    "    pickle.dump([train, train_l], f)\n",
    "\n",
    "with open('../data/processed/bigcomp/fold_1/dev.pkl', 'wb') as f:\n",
    "    pickle.dump([dev, dev_l], f)\n",
    "    \n",
    "with open('../data/processed/bigcomp/fold_1/test.pkl', 'wb') as f:\n",
    "    pickle.dump([test, test_l], f)"
   ]
  },
  {
   "cell_type": "code",
   "execution_count": 128,
   "metadata": {
    "collapsed": true
   },
   "outputs": [],
   "source": []
  },
  {
   "cell_type": "code",
   "execution_count": null,
   "metadata": {
    "collapsed": true
   },
   "outputs": [],
   "source": []
  },
  {
   "cell_type": "code",
   "execution_count": null,
   "metadata": {
    "collapsed": true
   },
   "outputs": [],
   "source": []
  }
 ],
 "metadata": {
  "kernelspec": {
   "display_name": "Python [conda env:tf14_p35]",
   "language": "python",
   "name": "conda-env-tf14_p35-py"
  },
  "language_info": {
   "codemirror_mode": {
    "name": "ipython",
    "version": 3
   },
   "file_extension": ".py",
   "mimetype": "text/x-python",
   "name": "python",
   "nbconvert_exporter": "python",
   "pygments_lexer": "ipython3",
   "version": "3.5.4"
  }
 },
 "nbformat": 4,
 "nbformat_minor": 2
}
