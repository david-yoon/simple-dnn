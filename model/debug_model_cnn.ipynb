{
 "cells": [
  {
   "cell_type": "markdown",
   "metadata": {},
   "source": [
    "# Process Data\n",
    "- get_batch"
   ]
  },
  {
   "cell_type": "code",
   "execution_count": 1,
   "metadata": {},
   "outputs": [],
   "source": [
    "from process_data import *\n",
    "from params import *"
   ]
  },
  {
   "cell_type": "code",
   "execution_count": null,
   "metadata": {},
   "outputs": [],
   "source": []
  },
  {
   "cell_type": "code",
   "execution_count": 2,
   "metadata": {
    "scrolled": true
   },
   "outputs": [
    {
     "name": "stdout",
     "output_type": "stream",
     "text": [
      "bigcomp\n",
      "load data : ../data/target/compar/train.pkl\n",
      "5206 5206\n",
      "load data : ../data/target/compar/dev.pkl\n",
      "729 729\n",
      "load data : ../data/target/compar/test.pkl\n",
      "1445 1445\n",
      "[completed] load data, feature_dim:  6373\n"
     ]
    }
   ],
   "source": [
    "params = Params()\n",
    "params.DATA_PATH = '../data/target/compar/'\n",
    "graph_name = 'bigcomp'\n",
    "batch_gen = ProcessData(params)"
   ]
  },
  {
   "cell_type": "code",
   "execution_count": null,
   "metadata": {},
   "outputs": [],
   "source": []
  },
  {
   "cell_type": "code",
   "execution_count": 12,
   "metadata": {},
   "outputs": [
    {
     "data": {
      "text/plain": [
       "6373"
      ]
     },
     "execution_count": 12,
     "metadata": {},
     "output_type": "execute_result"
    }
   ],
   "source": [
    "np.shape(batch_gen.train[0][0])[0]"
   ]
  },
  {
   "cell_type": "code",
   "execution_count": null,
   "metadata": {},
   "outputs": [],
   "source": []
  },
  {
   "cell_type": "code",
   "execution_count": 5,
   "metadata": {},
   "outputs": [
    {
     "name": "stdout",
     "output_type": "stream",
     "text": [
      "(10, 6373) (10, 6)\n"
     ]
    }
   ],
   "source": [
    "list_d, list_l = batch_gen.get_batch(\n",
    "                            data=batch_gen.test,\n",
    "                            batch_size=10,\n",
    "                            is_test=False,\n",
    "                            start_index = 0\n",
    "                            )\n",
    "print(np.shape(list_d), np.shape(list_l))"
   ]
  },
  {
   "cell_type": "code",
   "execution_count": 9,
   "metadata": {},
   "outputs": [
    {
     "data": {
      "text/plain": [
       "(10, 6373)"
      ]
     },
     "execution_count": 9,
     "metadata": {},
     "output_type": "execute_result"
    }
   ],
   "source": [
    "np.shape(list_d)"
   ]
  },
  {
   "cell_type": "code",
   "execution_count": null,
   "metadata": {},
   "outputs": [],
   "source": []
  },
  {
   "cell_type": "code",
   "execution_count": null,
   "metadata": {},
   "outputs": [],
   "source": []
  },
  {
   "cell_type": "markdown",
   "metadata": {},
   "source": [
    "# model"
   ]
  },
  {
   "cell_type": "code",
   "execution_count": 1,
   "metadata": {
    "scrolled": true
   },
   "outputs": [
    {
     "name": "stdout",
     "output_type": "stream",
     "text": [
      "bigcomp\n",
      "load data : ../data/target/compar/train.pkl\n",
      "5206 5206\n",
      "load data : ../data/target/compar/dev.pkl\n",
      "729 729\n",
      "load data : ../data/target/compar/test.pkl\n",
      "1445 1445\n",
      "[completed] load data, feature_dim:  6373\n",
      "[launch] placeholders\n",
      "[INFO] CNN\n",
      "[launch] create output projection layer\n",
      "[launch] create optimizer\n",
      "[launch] create summary\n"
     ]
    }
   ],
   "source": [
    "import os\n",
    "from model_cnn import *\n",
    "from process_data import *\n",
    "from params import *\n",
    "# from train import *\n",
    "\n",
    "params = Params()\n",
    "params.DATA_PATH = '../data/target/compar/'\n",
    "params.FEATURE_DIM = 6373\n",
    "graph_name = 'bigcomp'\n",
    "##########################################    \n",
    "params.IS_RESULT_LOGGIN = False\n",
    "##########################################          \n",
    "batch_gen = ProcessData(params)\n",
    "\n",
    "params.BATCH_SIZE = 2\n",
    "params.LR = 1e-3\n",
    "\n",
    "model = SimpleCNN(params=params)\n",
    "\n",
    "model.build_graph()\n",
    "# model._create_placeholders()\n",
    "# model._apply_CNN()\n",
    "# model._create_output_layers()"
   ]
  },
  {
   "cell_type": "code",
   "execution_count": null,
   "metadata": {},
   "outputs": [],
   "source": []
  },
  {
   "cell_type": "code",
   "execution_count": 2,
   "metadata": {},
   "outputs": [
    {
     "data": {
      "text/plain": [
       "[<tf.Variable 'cnn0/kernel:0' shape=(100, 1, 32) dtype=float32_ref>,\n",
       " <tf.Variable 'cnn0/bias:0' shape=(32,) dtype=float32_ref>,\n",
       " <tf.Variable 'cnn1/kernel:0' shape=(200, 1, 32) dtype=float32_ref>,\n",
       " <tf.Variable 'cnn1/bias:0' shape=(32,) dtype=float32_ref>,\n",
       " <tf.Variable 'cnn2/kernel:0' shape=(300, 1, 32) dtype=float32_ref>,\n",
       " <tf.Variable 'cnn2/bias:0' shape=(32,) dtype=float32_ref>,\n",
       " <tf.Variable 'cnn3/kernel:0' shape=(400, 1, 32) dtype=float32_ref>,\n",
       " <tf.Variable 'cnn3/bias:0' shape=(32,) dtype=float32_ref>,\n",
       " <tf.Variable 'dense/kernel:0' shape=(128, 32) dtype=float32_ref>,\n",
       " <tf.Variable 'dense/bias:0' shape=(32,) dtype=float32_ref>,\n",
       " <tf.Variable 'dense_1/kernel:0' shape=(32, 6) dtype=float32_ref>,\n",
       " <tf.Variable 'dense_1/bias:0' shape=(6,) dtype=float32_ref>]"
      ]
     },
     "execution_count": 2,
     "metadata": {},
     "output_type": "execute_result"
    }
   ],
   "source": [
    "tf.trainable_variables()"
   ]
  },
  {
   "cell_type": "code",
   "execution_count": null,
   "metadata": {},
   "outputs": [],
   "source": []
  },
  {
   "cell_type": "code",
   "execution_count": 3,
   "metadata": {},
   "outputs": [],
   "source": [
    "saver  = tf.train.Saver()\n",
    "config = tf.ConfigProto()\n",
    "config.gpu_options.allow_growth = True\n",
    "\n",
    "sess = tf.Session(config=config)\n",
    "sess.run(tf.global_variables_initializer())\n",
    "\n",
    "# if exists check point, starts from the check point\n",
    "ckpt = tf.train.get_checkpoint_state(os.path.dirname('./save/'))\n",
    "if ckpt and ckpt.model_checkpoint_path:\n",
    "    print ('from check point!!!')\n",
    "    saver.restore(sess, ckpt.model_checkpoint_path)"
   ]
  },
  {
   "cell_type": "code",
   "execution_count": 4,
   "metadata": {},
   "outputs": [],
   "source": [
    "list_d, list_l = batch_gen.get_batch(\n",
    "                                    data=batch_gen.dev,\n",
    "                                    batch_size=model.params.BATCH_SIZE,\n",
    "                                    is_test=True,\n",
    "                                    start_index = 0\n",
    "                                    )\n",
    "\n",
    "# prepare data which will be push from pc to placeholder\n",
    "input_feed = {}\n",
    "\n",
    "input_feed[model.batch_d]     = list_d\n",
    "input_feed[model.batch_l]     = list_l\n",
    "input_feed[model.phase]     = False\n",
    "input_feed[model.dr_prob] = 1.0"
   ]
  },
  {
   "cell_type": "code",
   "execution_count": null,
   "metadata": {},
   "outputs": [],
   "source": []
  },
  {
   "cell_type": "code",
   "execution_count": null,
   "metadata": {},
   "outputs": [],
   "source": []
  },
  {
   "cell_type": "code",
   "execution_count": null,
   "metadata": {},
   "outputs": [],
   "source": []
  },
  {
   "cell_type": "code",
   "execution_count": null,
   "metadata": {},
   "outputs": [],
   "source": []
  },
  {
   "cell_type": "code",
   "execution_count": 9,
   "metadata": {},
   "outputs": [
    {
     "name": "stdout",
     "output_type": "stream",
     "text": [
      "(2, 6) (2,) ()\n"
     ]
    }
   ],
   "source": [
    "r1, r2, r3 = sess.run( [\n",
    "                model.output,\n",
    "                model.batch_loss,\n",
    "                model.loss\n",
    "               ], input_feed)\n",
    "\n",
    "print(np.shape(r1), np.shape(r2), np.shape(r3))\n",
    "# print(list_len_q)\n",
    "# print(list_len_a)"
   ]
  },
  {
   "cell_type": "code",
   "execution_count": null,
   "metadata": {},
   "outputs": [],
   "source": []
  },
  {
   "cell_type": "code",
   "execution_count": 10,
   "metadata": {
    "scrolled": true
   },
   "outputs": [
    {
     "ename": "NameError",
     "evalue": "name 'train_model' is not defined",
     "output_type": "error",
     "traceback": [
      "\u001b[1;31m\u001b[0m",
      "\u001b[1;31mNameError\u001b[0mTraceback (most recent call last)",
      "\u001b[1;32m<ipython-input-10-2770d5fae58e>\u001b[0m in \u001b[0;36m<module>\u001b[1;34m()\u001b[0m\n\u001b[1;32m----> 1\u001b[1;33m \u001b[0mtrain_model\u001b[0m\u001b[1;33m(\u001b[0m\u001b[0mparams\u001b[0m\u001b[1;33m,\u001b[0m \u001b[0mmodel\u001b[0m\u001b[1;33m,\u001b[0m \u001b[0mbatch_gen\u001b[0m\u001b[1;33m,\u001b[0m \u001b[0mnum_train_steps\u001b[0m\u001b[1;33m=\u001b[0m\u001b[1;36m2\u001b[0m\u001b[1;33m,\u001b[0m \u001b[0mvalid_freq\u001b[0m\u001b[1;33m=\u001b[0m\u001b[1;36m1\u001b[0m\u001b[1;33m)\u001b[0m\u001b[1;33m\u001b[0m\u001b[0m\n\u001b[0m",
      "\u001b[1;31mNameError\u001b[0m: name 'train_model' is not defined"
     ]
    }
   ],
   "source": [
    "train_model(params, model, batch_gen, num_train_steps=2, valid_freq=1)"
   ]
  },
  {
   "cell_type": "code",
   "execution_count": null,
   "metadata": {
    "collapsed": true
   },
   "outputs": [],
   "source": []
  },
  {
   "cell_type": "code",
   "execution_count": null,
   "metadata": {},
   "outputs": [],
   "source": []
  },
  {
   "cell_type": "markdown",
   "metadata": {},
   "source": [
    "# Evaluation"
   ]
  },
  {
   "cell_type": "code",
   "execution_count": 1,
   "metadata": {},
   "outputs": [
    {
     "name": "stdout",
     "output_type": "stream",
     "text": [
      "bigcomp\n",
      "load data : ../data/target/fold_1/train.pkl\n",
      "5206 5206\n",
      "load data : ../data/target/fold_1/dev.pkl\n",
      "729 729\n",
      "load data : ../data/target/fold_1/test.pkl\n",
      "1445 1445\n",
      "[completed] load data\n",
      "[launch] placeholders\n",
      "[INFO] MLP\n",
      "[launch] MLP (reuse, scope):  False L1\n",
      "[launch] create output projection layer\n",
      "[launch] create optimizer\n",
      "[launch] create summary\n"
     ]
    }
   ],
   "source": [
    "import os\n",
    "from model import *\n",
    "from process_data import *\n",
    "from params import *\n",
    "from evaluation import *\n",
    "# from train import *\n",
    "\n",
    "params = Params()\n",
    "params.data_path = '../data/target/fold_1/'\n",
    "graph_name = 'bigcomp'\n",
    "##########################################    \n",
    "params.IS_RESULT_LOGGIN = False\n",
    "##########################################          \n",
    "batch_gen = ProcessData(params)\n",
    "\n",
    "params.batch_size = 2\n",
    "params.lr = 1e-3\n",
    "\n",
    "model = SimpleMLP(params=params)\n",
    "\n",
    "model.build_graph()"
   ]
  },
  {
   "cell_type": "code",
   "execution_count": 2,
   "metadata": {},
   "outputs": [
    {
     "name": "stdout",
     "output_type": "stream",
     "text": [
      "no pre-model available\n"
     ]
    }
   ],
   "source": [
    "saver = tf.train.Saver()\n",
    "config = tf.ConfigProto()\n",
    "config.gpu_options.allow_growth = True\n",
    "\n",
    "sess = tf.Session(config=config)\n",
    "sess.run(tf.global_variables_initializer())\n",
    "\n",
    "# if exists check point, starts from the check point\n",
    "ckpt = tf.train.get_checkpoint_state(os.path.dirname('./save/best-model/'))\n",
    "if ckpt and ckpt.model_checkpoint_path:\n",
    "    print ('from check point!!!')\n",
    "    saver.restore(sess, ckpt.model_checkpoint_path)\n",
    "else:\n",
    "    print(\"no pre-model available\")"
   ]
  },
  {
   "cell_type": "code",
   "execution_count": 3,
   "metadata": {},
   "outputs": [
    {
     "name": "stdout",
     "output_type": "stream",
     "text": [
      "0.12488455453227748 0.1083170493404983\n"
     ]
    },
    {
     "name": "stderr",
     "output_type": "stream",
     "text": [
      "/home/dato/anaconda2/envs/tf14_p35/lib/python3.5/site-packages/sklearn/metrics/classification.py:1143: UndefinedMetricWarning: Precision is ill-defined and being set to 0.0 in labels with no predicted samples.\n",
      "  'precision', 'predicted', average, warn_for)\n"
     ]
    }
   ],
   "source": [
    "data         = batch_gen.dev\n",
    "test_loss, test_MAP, test_MRR, _ = run_test(sess=sess,\n",
    "                                     model=model,\n",
    "                                     batch_gen=batch_gen,\n",
    "                                     data=data\n",
    "                                           )\n",
    "print(test_MAP, test_MRR)"
   ]
  },
  {
   "cell_type": "code",
   "execution_count": null,
   "metadata": {
    "collapsed": true
   },
   "outputs": [],
   "source": []
  },
  {
   "cell_type": "code",
   "execution_count": null,
   "metadata": {
    "collapsed": true
   },
   "outputs": [],
   "source": []
  },
  {
   "cell_type": "code",
   "execution_count": null,
   "metadata": {
    "collapsed": true
   },
   "outputs": [],
   "source": []
  },
  {
   "cell_type": "code",
   "execution_count": null,
   "metadata": {
    "collapsed": true
   },
   "outputs": [],
   "source": []
  },
  {
   "cell_type": "code",
   "execution_count": 4,
   "metadata": {
    "collapsed": true
   },
   "outputs": [],
   "source": [
    "list_d, list_l = batch_gen.get_batch(\n",
    "                                    data=batch_gen.dev,\n",
    "                                    batch_size=2,\n",
    "                                    is_test=True,\n",
    "                                    start_index = 0\n",
    "                                    )\n",
    "\n",
    "# prepare data which will be push from pc to placeholder\n",
    "input_feed = {}\n",
    "\n",
    "input_feed[model.batch_d] = list_d\n",
    "input_feed[model.batch_l] = list_l\n",
    "input_feed[model.dr_prob] = 1.0"
   ]
  },
  {
   "cell_type": "code",
   "execution_count": 6,
   "metadata": {},
   "outputs": [
    {
     "name": "stdout",
     "output_type": "stream",
     "text": [
      "(2, 6) (2, 6) ()\n"
     ]
    }
   ],
   "source": [
    "r1, r2, r3 = sess.run( [\n",
    "                model.batch_preds,\n",
    "                model.y_labels,\n",
    "                model.loss\n",
    "               ], input_feed)\n",
    "\n",
    "print(np.shape(r1), np.shape(r2), np.shape(r3))\n",
    "# print(list_len_q)\n",
    "# print(list_len_a)"
   ]
  },
  {
   "cell_type": "code",
   "execution_count": 7,
   "metadata": {},
   "outputs": [
    {
     "data": {
      "text/plain": [
       "array([0.49230745, 0.49239844, 0.4924431 , 0.5004191 , 0.5028848 ,\n",
       "       0.5003315 ], dtype=float32)"
      ]
     },
     "execution_count": 7,
     "metadata": {},
     "output_type": "execute_result"
    }
   ],
   "source": [
    "r1[0]"
   ]
  },
  {
   "cell_type": "code",
   "execution_count": 10,
   "metadata": {},
   "outputs": [
    {
     "data": {
      "text/plain": [
       "array([4, 5])"
      ]
     },
     "execution_count": 10,
     "metadata": {},
     "output_type": "execute_result"
    }
   ],
   "source": [
    "np.argmax(r2, axis=1)"
   ]
  },
  {
   "cell_type": "code",
   "execution_count": null,
   "metadata": {},
   "outputs": [],
   "source": []
  },
  {
   "cell_type": "code",
   "execution_count": null,
   "metadata": {},
   "outputs": [],
   "source": []
  },
  {
   "cell_type": "code",
   "execution_count": null,
   "metadata": {},
   "outputs": [],
   "source": []
  },
  {
   "cell_type": "code",
   "execution_count": null,
   "metadata": {},
   "outputs": [],
   "source": []
  },
  {
   "cell_type": "code",
   "execution_count": null,
   "metadata": {},
   "outputs": [],
   "source": []
  },
  {
   "cell_type": "code",
   "execution_count": null,
   "metadata": {},
   "outputs": [],
   "source": []
  },
  {
   "cell_type": "code",
   "execution_count": null,
   "metadata": {},
   "outputs": [],
   "source": []
  },
  {
   "cell_type": "code",
   "execution_count": null,
   "metadata": {},
   "outputs": [],
   "source": []
  },
  {
   "cell_type": "code",
   "execution_count": null,
   "metadata": {},
   "outputs": [],
   "source": []
  },
  {
   "cell_type": "code",
   "execution_count": null,
   "metadata": {},
   "outputs": [],
   "source": []
  },
  {
   "cell_type": "code",
   "execution_count": null,
   "metadata": {},
   "outputs": [],
   "source": []
  },
  {
   "cell_type": "code",
   "execution_count": null,
   "metadata": {},
   "outputs": [],
   "source": []
  },
  {
   "cell_type": "code",
   "execution_count": null,
   "metadata": {},
   "outputs": [],
   "source": []
  },
  {
   "cell_type": "code",
   "execution_count": null,
   "metadata": {},
   "outputs": [],
   "source": []
  },
  {
   "cell_type": "code",
   "execution_count": null,
   "metadata": {},
   "outputs": [],
   "source": []
  },
  {
   "cell_type": "code",
   "execution_count": null,
   "metadata": {},
   "outputs": [],
   "source": []
  },
  {
   "cell_type": "code",
   "execution_count": null,
   "metadata": {},
   "outputs": [],
   "source": []
  },
  {
   "cell_type": "code",
   "execution_count": null,
   "metadata": {},
   "outputs": [],
   "source": []
  },
  {
   "cell_type": "code",
   "execution_count": null,
   "metadata": {},
   "outputs": [],
   "source": []
  },
  {
   "cell_type": "code",
   "execution_count": null,
   "metadata": {},
   "outputs": [],
   "source": [
    "\n"
   ]
  },
  {
   "cell_type": "code",
   "execution_count": null,
   "metadata": {},
   "outputs": [],
   "source": []
  },
  {
   "cell_type": "code",
   "execution_count": null,
   "metadata": {},
   "outputs": [],
   "source": []
  },
  {
   "cell_type": "code",
   "execution_count": 11,
   "metadata": {},
   "outputs": [
    {
     "name": "stdout",
     "output_type": "stream",
     "text": [
      "Tensor(\"conv1d_2/Relu:0\", shape=(2, 638, 64), dtype=float32)\n"
     ]
    }
   ],
   "source": [
    "data_reshape = tf.reshape( model.batch_d, [model.params.BATCH_SIZE, -1, 1])\n",
    "cnn_filters=np.ndarray([30,1,1], dtype=np.float32)\n",
    "\n",
    "cnn_1d = tf.layers.conv1d(\n",
    "    inputs=data_reshape,\n",
    "    filters=64,\n",
    "    kernel_size=300,\n",
    "    strides=10,\n",
    "    padding=\"SAME\",\n",
    "    activation=tf.nn.relu\n",
    ")\n",
    "print(cnn_1d)"
   ]
  },
  {
   "cell_type": "code",
   "execution_count": 16,
   "metadata": {},
   "outputs": [
    {
     "name": "stdout",
     "output_type": "stream",
     "text": [
      "Tensor(\"max_pooling1d_5/Squeeze:0\", shape=(2, 1, 64), dtype=float32)\n"
     ]
    }
   ],
   "source": [
    "pool = tf.layers.max_pooling1d(\n",
    "    inputs=cnn_1d,\n",
    "    pool_size=638,\n",
    "    strides=638,\n",
    "    padding='SAME'\n",
    ")\n",
    "print(pool)"
   ]
  },
  {
   "cell_type": "code",
   "execution_count": null,
   "metadata": {},
   "outputs": [],
   "source": []
  },
  {
   "cell_type": "code",
   "execution_count": 17,
   "metadata": {},
   "outputs": [
    {
     "name": "stdout",
     "output_type": "stream",
     "text": [
      "Tensor(\"average_pooling1d_1/Squeeze:0\", shape=(2, 1, 64), dtype=float32)\n"
     ]
    }
   ],
   "source": [
    "pool_avg = tf.layers.average_pooling1d(\n",
    "    inputs=cnn_1d,\n",
    "    pool_size=638,\n",
    "    strides=638,\n",
    "    padding='SAME'\n",
    ")\n",
    "print(pool_avg)"
   ]
  },
  {
   "cell_type": "code",
   "execution_count": null,
   "metadata": {},
   "outputs": [],
   "source": []
  },
  {
   "cell_type": "code",
   "execution_count": null,
   "metadata": {},
   "outputs": [],
   "source": []
  },
  {
   "cell_type": "code",
   "execution_count": null,
   "metadata": {},
   "outputs": [],
   "source": []
  }
 ],
 "metadata": {
  "anaconda-cloud": {},
  "kernelspec": {
   "display_name": "Python [conda env:tf111_p35]",
   "language": "python",
   "name": "conda-env-tf111_p35-py"
  },
  "language_info": {
   "codemirror_mode": {
    "name": "ipython",
    "version": 3
   },
   "file_extension": ".py",
   "mimetype": "text/x-python",
   "name": "python",
   "nbconvert_exporter": "python",
   "pygments_lexer": "ipython3",
   "version": "3.5.6"
  }
 },
 "nbformat": 4,
 "nbformat_minor": 2
}
